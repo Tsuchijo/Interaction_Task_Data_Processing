{
 "cells": [
  {
   "cell_type": "code",
   "execution_count": 2,
   "metadata": {},
   "outputs": [],
   "source": [
    "import cv2\n",
    "import numpy as np\n",
    "import os\n",
    "import pandas as pd\n",
    "import datetime"
   ]
  },
  {
   "cell_type": "code",
   "execution_count": 23,
   "metadata": {},
   "outputs": [],
   "source": [
    "def process_time_string(time_string):\n",
    "    time_string = str(time_string)\n",
    "    if time_string == 'nan':\n",
    "        return None\n",
    "    if len(time_string) > 14:\n",
    "        millis = float(time_string[14:])\n",
    "    else:\n",
    "        millis = 0\n",
    "    secs = int(time_string[12:14])\n",
    "    mins = int(time_string[10:12])\n",
    "    hours = int(time_string[8:10])\n",
    "    day = int(time_string[6:8])\n",
    "    month = int(time_string[4:6])\n",
    "    year = int(time_string[0:4])\n",
    "    # divide millis until there is nothing to the right of the decimal point\n",
    "    while millis > 1:\n",
    "        millis /= 10\n",
    "    return datetime.datetime(year, month, day, hours, mins, secs, int(millis * 1000))\n",
    "\n",
    "def scrub_video_seconds(vid_capture, seconds):\n",
    "    fps = vid_capture.get(cv2.CAP_PROP_FPS)\n",
    "    frame_count = int(vid_capture.get(cv2.CAP_PROP_FRAME_COUNT))\n",
    "    current_pos_seconds = frame_count / fps\n",
    "    time_to_skip = current_pos_seconds - seconds\n",
    "    for i in range(int(time_to_skip * fps)):\n",
    "        vid_capture.read()\n",
    "    return vid_capture"
   ]
  },
  {
   "cell_type": "code",
   "execution_count": 48,
   "metadata": {},
   "outputs": [],
   "source": [
    "# get list of video names from the folder of processed CSVs\n",
    "csv_times = [ process_time_string(name.split('_')[0]) for name in os.listdir('successful_trials_by_day')]\n",
    "csv_paths = [name for name in os.listdir('successful_trials_by_day')]\n",
    "# iterate through each csv and find the closest video name\n",
    "video_times = [process_time_string(name.split('_')[0]) for name in os.listdir('Data_with mouse ID/videos/')]\n",
    "video_paths = [name for name in os.listdir('Data_with mouse ID/videos/')]\n",
    "csv_vid_match = dict()\n",
    "for csv_time in csv_times:\n",
    "    closest_time = video_times[0]\n",
    "    closest_path = video_paths[0]\n",
    "    for i, video_time in enumerate(video_times):\n",
    "        if abs((csv_time - video_time).total_seconds()) <  abs((csv_time - closest_time).total_seconds()):\n",
    "            closest_time = video_time\n",
    "            closest_path = video_paths[i]\n",
    "    total_delta = (csv_time - closest_time).total_seconds()\n",
    "    if total_delta < 10:\n",
    "        csv_vid_match[csv_paths[csv_times.index(csv_time)]] = {\n",
    "            'video_name': closest_path,\n",
    "            'delta_seconds': total_delta\n",
    "        }\n",
    "\n",
    "   \n",
    "    \n",
    "# iterate throught each video and load the corresponding video and csv\n",
    "for csv_name in csv_vid_match.keys():\n",
    "    video = cv2.VideoCapture('Data_with mouse ID/videos/' + csv_vid_match[csv_name]['video_name'])\n",
    "    df = pd.read_csv('successful_trials_by_day/' + csv_name)\n",
    "    if len(df['successful_trials']) < 10:\n",
    "        continue\n",
    "    # iterate through df and for each successfull trial get the start time in seconds\n",
    "    for index, row in df.iterrows():\n",
    "        if row['successful_trials']:\n",
    "            start_time = row['time_since_start']\n",
    "            video_time_offset = csv_vid_match[csv_name]['delta_seconds']\n",
    "            # process start_time with datetime\n",
    "            start_time = start_time.split(' ')[2].split(':')\n",
    "            start_time = float(start_time[0])*3600 + float(start_time[1])*60 + float(start_time[2]) + csv_vid_match[csv_name]['delta_seconds'] + video_time_offset\n",
    "            end_time = start_time + 15\n",
    "            # set the video to the start time\n",
    "            fps = video.get(cv2.CAP_PROP_FPS)\n",
    "            current_time = float(video.get(cv2.CAP_PROP_POS_FRAMES)) / fps\n",
    "            time_offset = start_time - current_time\n",
    "            for i in range(int(time_offset * video.get(cv2.CAP_PROP_FPS))):\n",
    "                video.read()\n",
    "\n",
    "            # find the frames where mouse R and L break the beam\n",
    "            R_time_offset = row['R']\n",
    "            L_time_offset = row['L']\n",
    "            R_break_frame = R_time_offset * fps + start_time * fps\n",
    "            L_break_frame = L_time_offset * fps + start_time * fps\n",
    "            \n",
    "            # find the mice names\n",
    "            name1 = row['names'][:2]\n",
    "            name2 = row['names'][2:]\n",
    "            # display the video until the end time\n",
    "            while True:\n",
    "                success, image = video.read()\n",
    "                if success == False or float(video.get(cv2.CAP_PROP_POS_FRAMES))/fps > end_time:\n",
    "                    break\n",
    "                # add a countdown to the video \n",
    "                cv2.putText(image, str(int(end_time - float(video.get(cv2.CAP_PROP_POS_FRAMES))/fps)), (50, 50), cv2.FONT_HERSHEY_SIMPLEX, 1, (255, 255, 255), 2, cv2.LINE_AA)\n",
    "                # display the mice names\n",
    "                cv2.putText(image, name1, (50, 100), cv2.FONT_HERSHEY_SIMPLEX, 1, (255, 255, 255), 2, cv2.LINE_AA)\n",
    "                cv2.putText(image, name2, (50, 150), cv2.FONT_HERSHEY_SIMPLEX, 1, (255, 255, 255), 2, cv2.LINE_AA)\n",
    "                cv2.imshow('frame', image)\n",
    "                # display second frame cropped from (247, 285) to (383, 432)\n",
    "                cv2.imshow('frame2', image[275:432, 222:383])\n",
    "                cv2.waitKey(12)\n",
    "\n",
    "    "
   ]
  },
  {
   "cell_type": "code",
   "execution_count": null,
   "metadata": {},
   "outputs": [
    {
     "name": "stdout",
     "output_type": "stream",
     "text": [
      "False\n"
     ]
    },
    {
     "name": "stderr",
     "output_type": "stream",
     "text": [
      "[ERROR:0@309.913] global cap.cpp:164 open VIDEOIO(CV_IMAGES): raised OpenCV exception:\n",
      "\n",
      "OpenCV(4.8.0) /io/opencv/modules/videoio/src/cap_images.cpp:267: error: (-215:Assertion failed) number < max_number in function 'icvExtractPattern'\n",
      "\n",
      "\n"
     ]
    },
    {
     "ename": "error",
     "evalue": "OpenCV(4.8.0) /io/opencv/modules/highgui/src/window.cpp:971: error: (-215:Assertion failed) size.width>0 && size.height>0 in function 'imshow'\n",
     "output_type": "error",
     "traceback": [
      "\u001b[0;31m---------------------------------------------------------------------------\u001b[0m",
      "\u001b[0;31merror\u001b[0m                                     Traceback (most recent call last)",
      "Cell \u001b[0;32mIn[9], line 7\u001b[0m\n\u001b[1;32m      5\u001b[0m \u001b[39mwhile\u001b[39;00m \u001b[39mTrue\u001b[39;00m:\n\u001b[1;32m      6\u001b[0m     success, image \u001b[39m=\u001b[39m video\u001b[39m.\u001b[39mread()\n\u001b[0;32m----> 7\u001b[0m     cv2\u001b[39m.\u001b[39;49mimshow(\u001b[39m'\u001b[39;49m\u001b[39mframe\u001b[39;49m\u001b[39m'\u001b[39;49m, image)\n\u001b[1;32m      8\u001b[0m     cv2\u001b[39m.\u001b[39mwaitKey(\u001b[39m12\u001b[39m)\n\u001b[1;32m      9\u001b[0m     \u001b[39mif\u001b[39;00m success \u001b[39m==\u001b[39m \u001b[39mFalse\u001b[39;00m:\n",
      "\u001b[0;31merror\u001b[0m: OpenCV(4.8.0) /io/opencv/modules/highgui/src/window.cpp:971: error: (-215:Assertion failed) size.width>0 && size.height>0 in function 'imshow'\n"
     ]
    }
   ],
   "source": [
    "for cvpath in video_names:\n",
    "    print(cvpath in os.listdir('Data_with mouse ID/videos/'))\n",
    "    video = cv2.VideoCapture('Data_with mouse ID/videos/' + cvpath)\n",
    "    # show the whole video in a window\n",
    "    while True:\n",
    "        success, image = video.read()\n",
    "        cv2.imshow('frame', image)\n",
    "        cv2.waitKey(12)\n",
    "        if success == False:\n",
    "            break\n",
    "    \n",
    "    "
   ]
  }
 ],
 "metadata": {
  "kernelspec": {
   "display_name": "Python 3",
   "language": "python",
   "name": "python3"
  },
  "language_info": {
   "codemirror_mode": {
    "name": "ipython",
    "version": 3
   },
   "file_extension": ".py",
   "mimetype": "text/x-python",
   "name": "python",
   "nbconvert_exporter": "python",
   "pygments_lexer": "ipython3",
   "version": "3.10.12"
  },
  "orig_nbformat": 4
 },
 "nbformat": 4,
 "nbformat_minor": 2
}
