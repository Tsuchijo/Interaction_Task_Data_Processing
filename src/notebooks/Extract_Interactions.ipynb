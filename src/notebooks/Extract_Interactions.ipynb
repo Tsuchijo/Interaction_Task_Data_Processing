{
 "cells": [
  {
   "cell_type": "code",
   "execution_count": 24,
   "metadata": {},
   "outputs": [],
   "source": [
    "import cv2\n",
    "import numpy as np\n",
    "import os\n",
    "import sys\n",
    "sys.path.append(os.path.abspath('../'))\n",
    "import pandas as pd\n",
    "import datetime\n",
    "import random\n",
    "from utilities.helper_functions import *\n",
    "import config\n",
    "import matplotlib.pyplot as plt"
   ]
  },
  {
   "cell_type": "code",
   "execution_count": 25,
   "metadata": {},
   "outputs": [],
   "source": [
    "## Imports array of videos and names of videos from a folder\n",
    "# @param path: path to folder containing videos\n",
    "# Returns a list of videos and a list of names\n",
    "def load_videos(path, regex = None):\n",
    "    videos = []\n",
    "    names = []\n",
    "    for file in os.listdir(path):\n",
    "        if file.endswith('.mp4'):\n",
    "            if regex is not None:\n",
    "                if not re.search(regex, file):\n",
    "                    continue\n",
    "            names.append(path.split('/')[-1] + file.split('.')[0])\n",
    "            video_capture = cv2.VideoCapture(path + '/' + file)\n",
    "            video = []\n",
    "            while True:\n",
    "                ret, frame = video_capture.read()\n",
    "                if not ret:\n",
    "                    break\n",
    "                # convert to grayscale\n",
    "                frame = cv2.cvtColor(frame, cv2.COLOR_BGR2GRAY)\n",
    "                video.append(frame)\n",
    "            videos.append(np.array(video))\n",
    "    return videos, names\n"
   ]
  },
  {
   "cell_type": "code",
   "execution_count": 26,
   "metadata": {},
   "outputs": [],
   "source": [
    "video_paths = [config.video_output_path[:-1] + '_all/' + trial for trial in os.listdir(config.video_output_path[:-1] + '_all/') ]\n"
   ]
  },
  {
   "cell_type": "code",
   "execution_count": 27,
   "metadata": {},
   "outputs": [
    {
     "data": {
      "text/plain": [
       "['/mnt/teams/Tsuchitori/social_interaction_trials_all/20230818120023',\n",
       " '/mnt/teams/Tsuchitori/social_interaction_trials_all/20230814161151',\n",
       " '/mnt/teams/Tsuchitori/social_interaction_trials_all/20230822152926',\n",
       " '/mnt/teams/Tsuchitori/social_interaction_trials_all/20230812150714',\n",
       " '/mnt/teams/Tsuchitori/social_interaction_trials_all/20230814153947',\n",
       " '/mnt/teams/Tsuchitori/social_interaction_trials_all/20230810171031',\n",
       " '/mnt/teams/Tsuchitori/social_interaction_trials_all/20230712151237',\n",
       " '/mnt/teams/Tsuchitori/social_interaction_trials_all/20230816103729',\n",
       " '/mnt/teams/Tsuchitori/social_interaction_trials_all/20230823103645',\n",
       " '/mnt/teams/Tsuchitori/social_interaction_trials_all/20230812144422',\n",
       " '/mnt/teams/Tsuchitori/social_interaction_trials_all/20230818121524',\n",
       " '/mnt/teams/Tsuchitori/social_interaction_trials_all/20230718154037',\n",
       " '/mnt/teams/Tsuchitori/social_interaction_trials_all/20230810161151',\n",
       " '/mnt/teams/Tsuchitori/social_interaction_trials_all/20230831104835',\n",
       " '/mnt/teams/Tsuchitori/social_interaction_trials_all/20230825110813',\n",
       " '/mnt/teams/Tsuchitori/social_interaction_trials_all/20230830140911',\n",
       " '/mnt/teams/Tsuchitori/social_interaction_trials_all/20230824111456',\n",
       " '/mnt/teams/Tsuchitori/social_interaction_trials_all/20230713112212',\n",
       " '/mnt/teams/Tsuchitori/social_interaction_trials_all/20230712104541',\n",
       " '/mnt/teams/Tsuchitori/social_interaction_trials_all/20230721100255',\n",
       " '/mnt/teams/Tsuchitori/social_interaction_trials_all/20230901101428',\n",
       " '/mnt/teams/Tsuchitori/social_interaction_trials_all/20230829113352',\n",
       " '/mnt/teams/Tsuchitori/social_interaction_trials_all/20230817105415',\n",
       " '/mnt/teams/Tsuchitori/social_interaction_trials_all/20230814102821',\n",
       " '/mnt/teams/Tsuchitori/social_interaction_trials_all/20230815163010',\n",
       " '/mnt/teams/Tsuchitori/social_interaction_trials_all/20230822135031',\n",
       " '/mnt/teams/Tsuchitori/social_interaction_trials_all/20230814101104',\n",
       " '/mnt/teams/Tsuchitori/social_interaction_trials_all/20230812170534']"
      ]
     },
     "execution_count": 27,
     "metadata": {},
     "output_type": "execute_result"
    }
   ],
   "source": [
    "video_paths"
   ]
  },
  {
   "cell_type": "code",
   "execution_count": 28,
   "metadata": {},
   "outputs": [],
   "source": [
    "## Take each a video and then subtract each frame from the next frame to get the next movement\n",
    "def calculate_movement(video):\n",
    "    movement = []\n",
    "    for i in range(len(video) - 1):\n",
    "        movement.append(video[i + 1].astype('int16') - video[i].astype('int16'))\n",
    "    return np.abs((np.array(movement) + 256) // 2).astype('uint8')\n"
   ]
  },
  {
   "cell_type": "code",
   "execution_count": 29,
   "metadata": {},
   "outputs": [],
   "source": [
    "def extract_movement_frames(video):\n",
    "    movement = []\n",
    "    for i in range(len(video) - 1):\n",
    "        movement.append(np.abs(np.sum(video[i + 1].astype('int16') - video[i].astype('int16'))))\n",
    "    # take a moving average of the movement\n",
    "    try:\n",
    "        movement = np.convolve(movement, np.ones(100) / 100, mode='same')\n",
    "    except (ValueError):\n",
    "        movement = np.zeros(len(movement))\n",
    "    return movement\n"
   ]
  },
  {
   "cell_type": "code",
   "execution_count": 30,
   "metadata": {},
   "outputs": [
    {
     "name": "stderr",
     "output_type": "stream",
     "text": [
      "[mov,mp4,m4a,3gp,3g2,mj2 @ 0x561c3c45e200] moov atom not found\n"
     ]
    }
   ],
   "source": [
    "# iterate through all the videos, extract interactions, and then save the video of the interactions to a folder\n",
    "for path in video_paths:\n",
    "    videos, names = load_videos(path, regex = '^((?!_full_vid).)*$')\n",
    "    for video, name in zip(videos, names):\n",
    "        movement = extract_movement_frames(video)\n",
    "        if len(movement) < 2:\n",
    "            continue\n",
    "        if np.max(movement) > 1000:\n",
    "            # find the first frame where the movement is greater than 1000\n",
    "            start = np.where(movement > 1000)[0][0]\n",
    "            # find the last frame where the movement is greater than 1000\n",
    "            end = np.where(movement > 1000)[0][-1]\n",
    "            movemnent_extracted_video = video[start:end]\n",
    "            # save the video to the movement_extracted folder\n",
    "\n",
    "\n",
    "            helper_functions.save_video(movemnent_extracted_video, config.movement_extracted_output_path[:-1] + '_all/' + name.split('_')[0] + '/' + name + '_start-' + str(start) + '_end-' + str(end) + '.mp4')\n",
    "            helper_functions.save_video(video, config.movement_extracted_output_path[:-1] + '_all/' + name.split('_')[0] + '/' + name + '_full_length' + '.mp4')"
   ]
  },
  {
   "cell_type": "code",
   "execution_count": 31,
   "metadata": {},
   "outputs": [
    {
     "data": {
      "text/plain": [
       "['/mnt/teams/Tsuchitori/social_interaction_trials/20230818120023',\n",
       " '/mnt/teams/Tsuchitori/social_interaction_trials/20230814161151',\n",
       " '/mnt/teams/Tsuchitori/social_interaction_trials/20230714161545',\n",
       " '/mnt/teams/Tsuchitori/social_interaction_trials/20230822152926',\n",
       " '/mnt/teams/Tsuchitori/social_interaction_trials/20230718144045',\n",
       " '/mnt/teams/Tsuchitori/social_interaction_trials/20230812150714',\n",
       " '/mnt/teams/Tsuchitori/social_interaction_trials/20230713094734',\n",
       " '/mnt/teams/Tsuchitori/social_interaction_trials/20230718161229',\n",
       " '/mnt/teams/Tsuchitori/social_interaction_trials/20230814153947',\n",
       " '/mnt/teams/Tsuchitori/social_interaction_trials/20230714114827',\n",
       " '/mnt/teams/Tsuchitori/social_interaction_trials/20230810171031',\n",
       " '/mnt/teams/Tsuchitori/social_interaction_trials/20230712151237',\n",
       " '/mnt/teams/Tsuchitori/social_interaction_trials/20230816103729',\n",
       " '/mnt/teams/Tsuchitori/social_interaction_trials/20230823103645',\n",
       " '/mnt/teams/Tsuchitori/social_interaction_trials/20230714141658',\n",
       " '/mnt/teams/Tsuchitori/social_interaction_trials/20230812144422',\n",
       " '/mnt/teams/Tsuchitori/social_interaction_trials/20230818121524',\n",
       " '/mnt/teams/Tsuchitori/social_interaction_trials/20230720160110',\n",
       " '/mnt/teams/Tsuchitori/social_interaction_trials/20230810161151',\n",
       " '/mnt/teams/Tsuchitori/social_interaction_trials/20230831104835',\n",
       " '/mnt/teams/Tsuchitori/social_interaction_trials/20230721161826',\n",
       " '/mnt/teams/Tsuchitori/social_interaction_trials/20230825110813',\n",
       " '/mnt/teams/Tsuchitori/social_interaction_trials/20230721122412',\n",
       " '/mnt/teams/Tsuchitori/social_interaction_trials/20230830140911',\n",
       " '/mnt/teams/Tsuchitori/social_interaction_trials/20230721145114',\n",
       " '/mnt/teams/Tsuchitori/social_interaction_trials/20230824111456',\n",
       " '/mnt/teams/Tsuchitori/social_interaction_trials/20230713112212',\n",
       " '/mnt/teams/Tsuchitori/social_interaction_trials/20230718151456',\n",
       " '/mnt/teams/Tsuchitori/social_interaction_trials/20230720141801',\n",
       " '/mnt/teams/Tsuchitori/social_interaction_trials/20230712161638',\n",
       " '/mnt/teams/Tsuchitori/social_interaction_trials/20230712104541',\n",
       " '/mnt/teams/Tsuchitori/social_interaction_trials/20230719100754',\n",
       " '/mnt/teams/Tsuchitori/social_interaction_trials/20230721100255',\n",
       " '/mnt/teams/Tsuchitori/social_interaction_trials/20230901101428',\n",
       " '/mnt/teams/Tsuchitori/social_interaction_trials/20230829113352',\n",
       " '/mnt/teams/Tsuchitori/social_interaction_trials/20230817105415',\n",
       " '/mnt/teams/Tsuchitori/social_interaction_trials/20230814102821',\n",
       " '/mnt/teams/Tsuchitori/social_interaction_trials/20230719161841',\n",
       " '/mnt/teams/Tsuchitori/social_interaction_trials/20230720104701',\n",
       " '/mnt/teams/Tsuchitori/social_interaction_trials/20230815163010',\n",
       " '/mnt/teams/Tsuchitori/social_interaction_trials/20230822135031',\n",
       " '/mnt/teams/Tsuchitori/social_interaction_trials/20230714140922',\n",
       " '/mnt/teams/Tsuchitori/social_interaction_trials/20230812170534',\n",
       " '/mnt/teams/Tsuchitori/social_interaction_trials/20230719133329',\n",
       " '/mnt/teams/Tsuchitori/social_interaction_trials/20230712153221']"
      ]
     },
     "execution_count": 31,
     "metadata": {},
     "output_type": "execute_result"
    }
   ],
   "source": [
    "video_paths = [config.video_output_path[:-1] + '/' + trial for trial in os.listdir(config.video_output_path[:-1] + '/') ]\n",
    "video_paths\n"
   ]
  },
  {
   "cell_type": "code",
   "execution_count": 32,
   "metadata": {},
   "outputs": [],
   "source": [
    "# iterate through all the videos, extract interactions, and then save the video of the interactions to a folder\n",
    "for path in video_paths:\n",
    "    videos, names = load_videos(path, regex = '^((?!_full_vid).)*$')\n",
    "    for video, name in zip(videos, names):\n",
    "        movement = extract_movement_frames(video)\n",
    "        if len(movement) < 2:\n",
    "            continue\n",
    "        if np.max(movement) > 1000:\n",
    "            # find the first frame where the movement is greater than 1000\n",
    "            start = np.where(movement > 1000)[0][0]\n",
    "            # find the last frame where the movement is greater than 1000\n",
    "            end = np.where(movement > 1000)[0][-1]\n",
    "            movemnent_extracted_video = video[start:end]\n",
    "            # save the video to the movement_extracted folder\n",
    "\n",
    "            helper_functions.save_video(movemnent_extracted_video, config.movement_extracted_output_path[:-1] + '/' + name.split('_')[0] + '/' + name + '_start-' + str(start) + '_end-' + str(end) + '.mp4')\n",
    "            helper_functions.save_video(video, config.movement_extracted_output_path[:-1] + '/' + name.split('_')[0] + '/' + name + '_full_length' + '.mp4')"
   ]
  }
 ],
 "metadata": {
  "kernelspec": {
   "display_name": "Python 3",
   "language": "python",
   "name": "python3"
  },
  "language_info": {
   "codemirror_mode": {
    "name": "ipython",
    "version": 3
   },
   "file_extension": ".py",
   "mimetype": "text/x-python",
   "name": "python",
   "nbconvert_exporter": "python",
   "pygments_lexer": "ipython3",
   "version": "3.10.12"
  },
  "orig_nbformat": 4
 },
 "nbformat": 4,
 "nbformat_minor": 2
}
