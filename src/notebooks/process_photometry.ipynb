{
 "cells": [
  {
   "cell_type": "code",
   "execution_count": 18,
   "metadata": {},
   "outputs": [],
   "source": [
    "import cv2\n",
    "import numpy as np\n",
    "import os\n",
    "import sys\n",
    "sys.path.append(os.path.abspath('../'))\n",
    "import pandas as pd\n",
    "import datetime\n",
    "import random\n",
    "from utilities.helper_functions import helper_functions as hf\n",
    "import config\n",
    "import tdt\n",
    "import re\n",
    "\n"
   ]
  },
  {
   "cell_type": "code",
   "execution_count": 52,
   "metadata": {},
   "outputs": [
    {
     "data": {
      "text/plain": [
       "'M5M6'"
      ]
     },
     "execution_count": 52,
     "metadata": {},
     "output_type": "execute_result"
    }
   ],
   "source": [
    "pd.read_csv(config.successful_trial_path + '20230815163010_log.csv')['names'][0]"
   ]
  },
  {
   "cell_type": "code",
   "execution_count": 53,
   "metadata": {},
   "outputs": [
    {
     "name": "stdout",
     "output_type": "stream",
     "text": [
      "['20230812150714_log.csv', '20230812144422_log.csv', '20230812170534_log.csv']\n",
      "20230812150714_log.csv\n",
      "20230812144422_log.csv\n",
      "20230812170534_log.csv\n",
      "Number trials found 3 Number of photometry trials found 1\n",
      "read from t=0s to t=2155.16s\n",
      "['20230814145140_log.csv', '20230814161151_log.csv', '20230814144753_log.csv', '20230814101104_log.csv', '20230814153947_log.csv', '20230814102821_log.csv']\n",
      "20230814145140_log.csv\n",
      "20230814144753_log.csv\n",
      "20230814153947_log.csv\n",
      "20230814102821_log.csv\n",
      "Number trials found 2 Number of photometry trials found 1\n",
      "read from t=0s to t=5822.48s\n",
      "[]\n",
      "Number trials found 0 Number of photometry trials found 0\n",
      "['20230815104201_log.csv', '20230815163010_log.csv']\n",
      "20230815104201_log.csv\n",
      "Number trials found 0 Number of photometry trials found 1\n",
      "read from t=0s to t=6888.65s\n"
     ]
    }
   ],
   "source": [
    "for day in os.listdir(config.remote_photometry_path):\n",
    "    trial_paths = [config.remote_photometry_path + day + '/' + x for x in os.listdir(config.remote_photometry_path + day) if re.match('M[1-8]_F1_M[1-8]_F2', x)]\n",
    "    date = day.split('-')[-1]\n",
    "    # Search through all trials recorded and find ones matching the day of photometry recording\n",
    "    matching_trials = [x for x in os.listdir(config.successful_trial_path) if x[2:8] == date]\n",
    "    print(matching_trials)\n",
    "    mice_ids = []\n",
    "    # remove trials with less than 10 trials\n",
    "    for trial in matching_trials:\n",
    "        if pd.read_csv(config.successful_trial_path + trial).shape[0] < 10:\n",
    "            matching_trials.remove(trial)\n",
    "            print(trial)\n",
    "        else:\n",
    "            print(trial)\n",
    "            trial_csv = pd.read_csv(config.successful_trial_path + trial)\n",
    "            mice_ids.append(trial_csv['names'][0])\n",
    "    print('Number trials found ' + str(len(mice_ids)) + ' Number of photometry trials found ' + str(len(trial_paths)))\n",
    "    for trial in trial_paths:\n",
    "        # find the two mouse ids by regex matching to M1-8\n",
    "        mouse_id = re.findall('M[1-8]', trial)\n",
    "        mouse_id = mouse_id[0]+mouse_id[1]\n",
    "        # get all indices of matching mouse ids\n",
    "        matching_indices = [i for i, x in enumerate(mice_ids) if x == mouse_id]\n",
    "        data = tdt.read_block(trial)\n",
    "        start_time = data.info.start_date\n",
    "        for i in matching_indices:\n",
    "            match_trial = pd.read_csv(config.successful_trial_path + matching_trials[i])\n",
    "            trial_start_time = match_trial['cue_times'][0]\n",
    "\n"
   ]
  }
 ],
 "metadata": {
  "kernelspec": {
   "display_name": "Python 3",
   "language": "python",
   "name": "python3"
  },
  "language_info": {
   "codemirror_mode": {
    "name": "ipython",
    "version": 3
   },
   "file_extension": ".py",
   "mimetype": "text/x-python",
   "name": "python",
   "nbconvert_exporter": "python",
   "pygments_lexer": "ipython3",
   "version": "3.10.12"
  },
  "orig_nbformat": 4
 },
 "nbformat": 4,
 "nbformat_minor": 2
}
