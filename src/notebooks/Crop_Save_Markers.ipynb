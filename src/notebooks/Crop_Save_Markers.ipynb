{
 "cells": [
  {
   "cell_type": "code",
   "execution_count": 1,
   "metadata": {},
   "outputs": [],
   "source": [
    "import cv2\n",
    "import numpy as np\n",
    "import os\n",
    "import sys\n",
    "sys.path.append(os.path.abspath('../'))\n",
    "import pandas as pd\n",
    "import datetime\n",
    "import random\n",
    "import utilities.helper_functions as hf\n",
    "import config"
   ]
  },
  {
   "cell_type": "code",
   "execution_count": 2,
   "metadata": {},
   "outputs": [],
   "source": [
    "video_path = config.remote_video_path\n",
    "processed_data_path = config.successful_trial_path\n",
    "reference_path = [config.marker_path + dir for dir in os.listdir(config.marker_path)]"
   ]
  },
  {
   "cell_type": "code",
   "execution_count": 3,
   "metadata": {},
   "outputs": [],
   "source": [
    "# get list of video names from the folder of processed CSVs\n",
    "csv_times = [ hf.process_time_string(name.split('_')[0]) for name in os.listdir(processed_data_path)]\n",
    "csv_paths = [name for name in os.listdir(processed_data_path)]\n",
    "# iterate through each csv and find the closest video name\n",
    "video_times = [hf.process_time_string(name.split('_')[0]) for name in os.listdir(video_path)]\n",
    "video_paths = [name for name in os.listdir(video_path)]\n",
    "csv_vid_match = dict()\n",
    "for csv_time in csv_times:\n",
    "    closest_time = video_times[0]\n",
    "    closest_path = video_paths[0]\n",
    "    for i, video_time in enumerate(video_times):\n",
    "        if abs((csv_time - video_time).total_seconds()) <  abs((csv_time - closest_time).total_seconds()):\n",
    "            closest_time = video_time\n",
    "            closest_path = video_paths[i]\n",
    "    total_delta = (csv_time - closest_time).total_seconds()\n",
    "    if total_delta < 10:\n",
    "        csv_vid_match[csv_paths[csv_times.index(csv_time)]] = {\n",
    "            'video_name': closest_path,\n",
    "            'delta_seconds': total_delta\n",
    "        }\n",
    "\n",
    "\n",
    "\n",
    "significant_trials = []\n",
    "for csv_name in csv_vid_match.keys():\n",
    "    df = pd.read_csv(processed_data_path + '/' + csv_name)\n",
    "    if len(df['successful_trials']) >= 10:\n",
    "        significant_trials.append(csv_name)\n",
    "significant_trials.sort()\n",
    "significant_trials.reverse()\n",
    "# randoize order\n",
    "random.shuffle(significant_trials)\n",
    "\n",
    "\n",
    "    "
   ]
  },
  {
   "cell_type": "code",
   "execution_count": 4,
   "metadata": {},
   "outputs": [
    {
     "ename": "KeyboardInterrupt",
     "evalue": "",
     "output_type": "error",
     "traceback": [
      "\u001b[0;31m---------------------------------------------------------------------------\u001b[0m",
      "\u001b[0;31mKeyboardInterrupt\u001b[0m                         Traceback (most recent call last)",
      "Cell \u001b[0;32mIn[4], line 28\u001b[0m\n\u001b[1;32m     25\u001b[0m     cv2\u001b[39m.\u001b[39mimshow(\u001b[39m'\u001b[39m\u001b[39mframe\u001b[39m\u001b[39m'\u001b[39m, new_image)\n\u001b[1;32m     26\u001b[0m     cv2\u001b[39m.\u001b[39mimshow(\u001b[39m'\u001b[39m\u001b[39moriginal\u001b[39m\u001b[39m'\u001b[39m, image)\n\u001b[0;32m---> 28\u001b[0m     \u001b[39mif\u001b[39;00m cv2\u001b[39m.\u001b[39;49mwaitKey(\u001b[39m12\u001b[39;49m) \u001b[39m&\u001b[39m \u001b[39m0xFF\u001b[39m \u001b[39m==\u001b[39m \u001b[39mord\u001b[39m(\u001b[39m'\u001b[39m\u001b[39mq\u001b[39m\u001b[39m'\u001b[39m):\n\u001b[1;32m     29\u001b[0m         \u001b[39mbreak\u001b[39;00m    \n\u001b[1;32m     30\u001b[0m cv2\u001b[39m.\u001b[39mdestroyAllWindows()\n",
      "\u001b[0;31mKeyboardInterrupt\u001b[0m: "
     ]
    }
   ],
   "source": [
    "for test_path in significant_trials:\n",
    "    test_video = cv2.VideoCapture(video_path + csv_vid_match[test_path]['video_name'])\n",
    "    test_video = hf.scrub_video_seconds(test_video, 10)\n",
    "    # get single frame\n",
    "    success, image = test_video.read()\n",
    "    # boost contrast\n",
    "    cv2.imshow('original', image)\n",
    "    # create slider to adjust contrast\n",
    "    def nothing(x):\n",
    "        pass\n",
    "    # create bars to crop image\n",
    "    cv2.createTrackbar('x1', 'original', 0, 1000, nothing)\n",
    "    cv2.createTrackbar('y1', 'original', 0, 1000, nothing)\n",
    "    cv2.createTrackbar('x2', 'original', 1, 1000, nothing)\n",
    "    cv2.createTrackbar('y2', 'original', 1, 1000, nothing)\n",
    "    cv2.setTrackbarPos('x2', 'original', 200)\n",
    "    cv2.setTrackbarPos('y2', 'original', 200)\n",
    "    while True:\n",
    "        # crop newimage \n",
    "        x1 = cv2.getTrackbarPos('x1', 'original')\n",
    "        y1 = cv2.getTrackbarPos('y1', 'original')\n",
    "        x2 = cv2.getTrackbarPos('x2', 'original')\n",
    "        y2 = cv2.getTrackbarPos('y2', 'original')\n",
    "        new_image = image[y1:y2, x1:x2]\n",
    "        cv2.imshow('frame', new_image)\n",
    "        cv2.imshow('original', image)\n",
    "\n",
    "        if cv2.waitKey(12) & 0xFF == ord('q'):\n",
    "            break    \n",
    "    cv2.destroyAllWindows()\n",
    "    # save the image to a file\n",
    "    # display the image\n",
    "    cv2.imwrite('marker_reference/interaction_area_' + test_path.split('.')[0] + '.jpg', new_image)"
   ]
  }
 ],
 "metadata": {
  "kernelspec": {
   "display_name": "Python 3",
   "language": "python",
   "name": "python3"
  },
  "language_info": {
   "codemirror_mode": {
    "name": "ipython",
    "version": 3
   },
   "file_extension": ".py",
   "mimetype": "text/x-python",
   "name": "python",
   "nbconvert_exporter": "python",
   "pygments_lexer": "ipython3",
   "version": "3.10.12"
  },
  "orig_nbformat": 4
 },
 "nbformat": 4,
 "nbformat_minor": 2
}
